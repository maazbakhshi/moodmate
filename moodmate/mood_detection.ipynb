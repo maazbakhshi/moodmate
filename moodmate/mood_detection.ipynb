{
 "cells": [
  {
   "cell_type": "code",
   "execution_count": 1,
   "metadata": {},
   "outputs": [
    {
     "name": "stdout",
     "output_type": "stream",
     "text": [
      "Polarity score: 0.8\n"
     ]
    }
   ],
   "source": [
    "from textblob import TextBlob\n",
    "\n",
    "text = \"im feeling happy.\"\n",
    "blob = TextBlob(text)\n",
    "\n",
    "print(\"Polarity score:\", blob.sentiment.polarity)"
   ]
  },
  {
   "cell_type": "code",
   "execution_count": 2,
   "metadata": {},
   "outputs": [],
   "source": [
    "def detect_mood(text):\n",
    "    blob = TextBlob(text)\n",
    "    polarity = blob.sentiment.polarity\n",
    "\n",
    "    # Classify mood based on polarity score\n",
    "    if polarity > 0.2:\n",
    "        return \"happy 😊\"\n",
    "    elif polarity < -0.2:\n",
    "        return \"sad 😢\"\n",
    "    else:\n",
    "        return \"neutral 😐\"\n",
    "\n",
    "\n",
    "\n"
   ]
  },
  {
   "cell_type": "code",
   "execution_count": 3,
   "metadata": {},
   "outputs": [
    {
     "name": "stdout",
     "output_type": "stream",
     "text": [
      "happy 😊\n",
      "sad 😢\n",
      "neutral 😐\n"
     ]
    }
   ],
   "source": [
    "print(detect_mood(\"Life is beautiful.\"))\n",
    "print(detect_mood(\"This is the worst day ever.\"))\n",
    "print(detect_mood(\"I had cereal.\"))\n"
   ]
  },
  {
   "cell_type": "code",
   "execution_count": 11,
   "metadata": {},
   "outputs": [
    {
     "name": "stdout",
     "output_type": "stream",
     "text": [
      "Detected mood: happy 😊\n",
      "Keep smiling! 😄\n"
     ]
    }
   ],
   "source": [
    "entry = input(\"Write your journal entry: \")\n",
    "mood = detect_mood(entry)\n",
    "\n",
    "print(\"Detected mood:\", mood)\n",
    "\n",
    "# Give a message based on mood\n",
    "if mood == \"happy 😊\":\n",
    "    print(\"Keep smiling! 😄\")\n",
    "elif mood == \"sad 😢\":\n",
    "    print(\"It's okay to feel down. Try doing something you enjoy. 💖\")\n",
    "else:\n",
    "    print(\"Hope your day picks up! 🌤️\")\n"
   ]
  }
 ],
 "metadata": {
  "kernelspec": {
   "display_name": "Python (WSL)",
   "language": "python",
   "name": "wsl-python"
  },
  "language_info": {
   "codemirror_mode": {
    "name": "ipython",
    "version": 3
   },
   "file_extension": ".py",
   "mimetype": "text/x-python",
   "name": "python",
   "nbconvert_exporter": "python",
   "pygments_lexer": "ipython3",
   "version": "3.12.7"
  }
 },
 "nbformat": 4,
 "nbformat_minor": 2
}
